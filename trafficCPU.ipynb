{
 "cells": [
  {
   "cell_type": "code",
   "execution_count": 2,
   "id": "a4e806d8-cc77-48fc-8864-d6eb9f222a08",
   "metadata": {},
   "outputs": [],
   "source": [
    "import pandas as pd"
   ]
  },
  {
   "cell_type": "code",
   "execution_count": 3,
   "id": "de4fd686-e5c8-450d-933b-43f2a30c8392",
   "metadata": {},
   "outputs": [],
   "source": [
    "dataToPlot = ['cpuUsage', 'memoryUsage']\n",
    "folders = ['10 min', '1h']"
   ]
  },
  {
   "cell_type": "code",
   "execution_count": 9,
   "id": "3384e051-74ee-4443-ad20-ac04803c2a9f",
   "metadata": {},
   "outputs": [],
   "source": [
    "hardware = '12_proc_30_ram'"
   ]
  },
  {
   "cell_type": "code",
   "execution_count": null,
   "id": "ff93a5c6-3316-484c-9afd-205eee356830",
   "metadata": {},
   "outputs": [],
   "source": [
    "hardware = '8_proc_20_ram'"
   ]
  },
  {
   "cell_type": "code",
   "execution_count": 10,
   "id": "2f27979f-1356-4841-9b72-7dda6b0144dd",
   "metadata": {},
   "outputs": [],
   "source": [
    "tests = ['2_repliki', '4_repliki', '6_replik', '8_replik']"
   ]
  },
  {
   "cell_type": "code",
   "execution_count": 4,
   "id": "654ab3b2-db90-42db-a321-a04752dfce7b",
   "metadata": {},
   "outputs": [],
   "source": [
    "tests = ['transakcje_60s', 'transakcje_120s', 'transakcje_180s', 'transakcje_240s', 'transakcje_300s']"
   ]
  },
  {
   "cell_type": "code",
   "execution_count": 59,
   "id": "ffeaa0f4-9729-43f4-9ff8-09e0c2fa72f5",
   "metadata": {},
   "outputs": [],
   "source": [
    "tests = ['zapytania_20ms', 'zapytania_100ms', 'zapytania_500ms', 'zapytania_1000ms', 'zapytania_2000ms']"
   ]
  },
  {
   "cell_type": "code",
   "execution_count": 61,
   "id": "d5e1e3d6-eecd-45c4-9016-ddd24e13fa48",
   "metadata": {},
   "outputs": [],
   "source": [
    "tests = ['strategia1_100_strategia2_100_strategia3_100', 'strategia1_200_strategia3_100', 'strategia2_200', 'strategia2_200_strategia3_100', 'strategia3_200']"
   ]
  },
  {
   "cell_type": "code",
   "execution_count": null,
   "id": "3248229d-2ab8-4aa0-92a2-e55b2186be97",
   "metadata": {},
   "outputs": [],
   "source": [
    "for f in folders:\n",
    "    for j in dataToPlot:\n",
    "        data = pd.DataFrame()\n",
    "        for i in tests:\n",
    "            try:\n",
    "                d = pd.read_csv('Testy/' + hardware + '/Testy/' + f + '/' + i + '/traffic.csv', usecols=['timestamp', j])\n",
    "            except:\n",
    "                continue\n",
    "            d = d.sort_values(by=['timestamp'])\n",
    "            t = d['timestamp'][0]\n",
    "            d['timestamp'] = d['timestamp'].apply(lambda x: (x - t)/60000)\n",
    "            d[j] = d[j].apply(lambda x: x*100)\n",
    "\n",
    "            customDataFrame = pd.DataFrame({'timestamp': d['timestamp'], i: d[j]})\n",
    "            if f == '1h':\n",
    "                customDataFrame = customDataFrame.loc[customDataFrame['timestamp'] < 60]\n",
    "            else:\n",
    "                customDataFrame = customDataFrame.loc[customDataFrame['timestamp'] < 10]\n",
    "            data = pd.concat([data, customDataFrame])\n",
    "        ax = data.set_index('timestamp').plot(figsize=(20, 7), title = hardware + ' | ' + j + ' | ' + f + ' | ' + i)\n",
    "        ax.set_xlabel(\"time [min]\")\n",
    "        ax.set_ylabel(\"Usage percentage\")"
   ]
  }
 ],
 "metadata": {
  "kernelspec": {
   "display_name": "Python 3 (ipykernel)",
   "language": "python",
   "name": "python3"
  },
  "language_info": {
   "codemirror_mode": {
    "name": "ipython",
    "version": 3
   },
   "file_extension": ".py",
   "mimetype": "text/x-python",
   "name": "python",
   "nbconvert_exporter": "python",
   "pygments_lexer": "ipython3",
   "version": "3.9.0"
  }
 },
 "nbformat": 4,
 "nbformat_minor": 5
}
